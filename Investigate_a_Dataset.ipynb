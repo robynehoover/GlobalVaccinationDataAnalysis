{
 "cells": [
  {
   "cell_type": "markdown",
   "metadata": {},
   "source": [
    "# Project: Investigate a Dataset - [Global Vaccinations Data Analysis]\n",
    "\n",
    "## Table of Contents\n",
    "<ul>\n",
    "<li><a href=\"#intro\">Introduction</a></li>\n",
    "<li><a href=\"#wrangling\">Data Wrangling</a></li>\n",
    "<li><a href=\"#eda\">Data Analysis: Researh Question 1</a></li>\n",
    "<li><a href=\"#eda2\">Data Analysis: Researh Question 2</a></li>\n",
    "<li><a href=\"#conclusions\">Conclusions</a></li>\n",
    "</ul>"
   ]
  },
  {
   "cell_type": "markdown",
   "metadata": {},
   "source": [
    "<a id='intro'></a>\n",
    "## Introduction\n",
    "\n",
    "### Question(s) for Analysis\n",
    ">**Question 1: How does vaccine effectiveness, safety, and importance compare to the actual vaccination rates in 2017?\n",
    "\n",
    ">**Question : How have vaccination rates changed in the United States from 1979-2018?\n",
    "\n",
    "### Dataset Description \n",
    "\n",
    "> The four datasets were downloaded from gapminder at https://www.gapminder.org/data/. The vaccination safety dataset contains the proportion of people who think vaccines are not safe. Similarly, the vaccination importance and vaccination effectiveness datasets contain the proportions of people who think vaccines are not important and not effective respectively. All three data sets have the same column names: country, 2014, 2015, 2016, 2017. The fourth data set contains the share of one year olds who have had at least one dose of either BCG, DPT3, HepB3, HIB3, Measles, PCV3, Pol3, or RotaC. This data shows the number for the vaccine with the highest coverage. This data set has column names for every year from 1979-2018 and also a country column."
   ]
  },
  {
   "cell_type": "code",
   "execution_count": 6,
   "metadata": {},
   "outputs": [],
   "source": [
    "# Import packages\n",
    "import pandas as pd\n",
    "import numpy as np\n",
    "import matplotlib.pyplot as plt\n",
    "import scipy.stats as stats\n",
    "import seaborn as sns"
   ]
  },
  {
   "cell_type": "code",
   "execution_count": 171,
   "metadata": {},
   "outputs": [
    {
     "name": "stdout",
     "output_type": "stream",
     "text": [
      "Requirement already up-to-date: pandas==0.25.0 in /opt/conda/lib/python3.6/site-packages (0.25.0)\r\n",
      "Requirement already satisfied, skipping upgrade: pytz>=2017.2 in /opt/conda/lib/python3.6/site-packages (from pandas==0.25.0) (2017.3)\r\n",
      "Requirement already satisfied, skipping upgrade: numpy>=1.13.3 in /opt/conda/lib/python3.6/site-packages (from pandas==0.25.0) (1.19.5)\r\n",
      "Requirement already satisfied, skipping upgrade: python-dateutil>=2.6.1 in /opt/conda/lib/python3.6/site-packages (from pandas==0.25.0) (2.6.1)\r\n",
      "Requirement already satisfied, skipping upgrade: six>=1.5 in /opt/conda/lib/python3.6/site-packages (from python-dateutil>=2.6.1->pandas==0.25.0) (1.11.0)\r\n"
     ]
    }
   ],
   "source": [
    "# Upgrade pandas to use dataframe.explode() function. \n",
    "!pip install --upgrade pandas==0.25.0"
   ]
  },
  {
   "cell_type": "markdown",
   "metadata": {},
   "source": [
    "<a id='wrangling'></a>\n",
    "## Data Wrangling\n",
    "\n",
    ">> There was only data from 2015-2017 for the vaccine importance, safety, and effectiveness data sets and most \n",
    "countries only had data from 2017. The data from 2014-16 was dropped and only the data from 2017 was used for data analysis. Although there was data from 1979-2018 for the vaccination rate data, I chose to only compare the vaccination rates from 2017 to the responses rates from the vaccine effectiveness, safety and importance datasets. All null value data was dropped and the four datasets were merged into a single dataframe. Then, I subtracted the proportions of the vaccination safety, importance, and effectiveness data from 100 to model the proportion of people who do think that vaccines are safe, effective, and important.\n",
    "\n",
    ">>For question 2, only the data from the United States was selected. All null values were dropped and the country column was eliminated because it contained no actual data."
   ]
  },
  {
   "cell_type": "code",
   "execution_count": 7,
   "metadata": {},
   "outputs": [],
   "source": [
    "def csv_load(filepath):\n",
    "    df=pd.read_csv(filepath)\n",
    "    return df\n",
    "v_imptn = csv_load(\"vccine_imptn_dag.csv\")\n",
    "v_sfty = csv_load(\"vccin_sfty_dag.csv\")\n",
    "v_effect = csv_load(\"vccin_effect_dag.csv\")\n",
    "v_rate = csv_load(\"vacc_rate.csv\")"
   ]
  },
  {
   "cell_type": "markdown",
   "metadata": {},
   "source": []
  },
  {
   "cell_type": "code",
   "execution_count": 8,
   "metadata": {},
   "outputs": [],
   "source": [
    "#Selecting the values for only 2017, removing null values from the vaccination safety data, renaming the column\n",
    "v_safety = v_sfty[[\"country\", \"2017\"]].dropna()\n",
    "v_safety = v_safety.rename(columns={\"2017\": \"safe\"})"
   ]
  },
  {
   "cell_type": "code",
   "execution_count": 9,
   "metadata": {},
   "outputs": [],
   "source": [
    "#Selecting the values for only 2017, removing null values from the vaccination importance data, renaming the column\n",
    "v_important = v_imptn[[\"country\", \"2017\"]].dropna()\n",
    "v_important = v_important.rename(columns={\"2017\": \"important\"})"
   ]
  },
  {
   "cell_type": "code",
   "execution_count": 10,
   "metadata": {},
   "outputs": [],
   "source": [
    "#Selecting the values for only 2017, removing null values from the vaccination effectiveness data, renaming the column\n",
    "v_effective = v_effect[[\"country\", \"2017\"]].dropna()\n",
    "v_effective = v_effective.rename(columns={\"2017\": \"effective\"})"
   ]
  },
  {
   "cell_type": "code",
   "execution_count": 11,
   "metadata": {},
   "outputs": [],
   "source": [
    "#Selecting the values for only 2017, and renaming the column for the vaccination rate data\n",
    "v_rate17 = v_rate[[\"country\", \"2017\"]].dropna()\n",
    "v_rate17 = v_rate17.rename(columns={\"2017\": \"vaccination_rate\"})"
   ]
  },
  {
   "cell_type": "code",
   "execution_count": 12,
   "metadata": {},
   "outputs": [
    {
     "name": "stdout",
     "output_type": "stream",
     "text": [
      "                    country  safe  important  effective  vaccination_rate\n",
      "0               Afghanistan   4.5        2.1        1.8                78\n",
      "1                   Albania  15.8        1.7        9.0                99\n",
      "2      United Arab Emirates   4.4        2.5        3.4                99\n",
      "3                 Argentina   4.8        1.2        2.9                99\n",
      "4                   Armenia  20.6       12.2       12.5                99\n",
      "5                 Australia   6.9        3.3        4.1                95\n",
      "6                   Austria  21.1       11.8       11.3                94\n",
      "7                Azerbaijan  11.2        8.3        8.4                97\n",
      "8                   Burundi   6.5        0.7        3.5                92\n",
      "9                   Belgium  20.6        4.7        5.3                98\n",
      "10                    Benin  14.0        1.8        6.6                89\n",
      "11             Burkina Faso  20.8        2.9        8.6                98\n",
      "12               Bangladesh   0.9        0.4        0.4                99\n",
      "13                 Bulgaria  15.6        6.9        6.4                96\n",
      "14   Bosnia and Herzegovina   8.3        5.9        6.2                95\n",
      "15                  Belarus  14.8        7.6        9.8                98\n",
      "16                  Bolivia  13.1        1.8        8.7                90\n",
      "17                   Brazil   9.0        0.5        6.7                93\n",
      "18                 Botswana   9.0        3.8        4.1                98\n",
      "19                   Canada   8.3        5.4        5.8                91\n",
      "20              Switzerland  21.5        9.3        7.7                96\n",
      "21                    Chile  11.4        4.0        6.5                96\n",
      "22                    China   8.3        1.9        2.8                99\n",
      "23            Cote d'Ivoire  16.4        1.5        7.8                95\n",
      "24                 Cameroon  13.1        1.8        9.5                84\n",
      "25              Congo, Rep.  17.5        2.2        3.4                81\n",
      "26                 Colombia  10.7        0.6        8.0                95\n",
      "27                  Comoros   7.5        1.3        2.6                94\n",
      "28               Costa Rica   5.8        1.0        5.3                98\n",
      "29                   Cyprus   9.9        6.0        6.2                99\n",
      "..                      ...   ...        ...        ...               ...\n",
      "110                  Rwanda   1.6        0.6        0.6                99\n",
      "111            Saudi Arabia   2.7        1.3        3.9                98\n",
      "112                 Senegal  14.7        2.7        9.4                83\n",
      "113               Singapore   3.0        2.1        2.9                98\n",
      "114            Sierra Leone   3.9        0.7        3.6                93\n",
      "115             El Salvador  11.4        0.8        8.2                85\n",
      "116                  Serbia   9.2        5.4        5.2                98\n",
      "117         Slovak Republic   6.4        2.6        2.4                97\n",
      "118                Slovenia  12.3        5.8        8.0                94\n",
      "119                  Sweden  12.3        2.2        3.1                97\n",
      "120                Eswatini  10.1        1.4        8.1                98\n",
      "121                    Chad  10.1        4.3        7.1                50\n",
      "122                    Togo  25.0        3.1       12.2                97\n",
      "123                Thailand   3.0        1.2        2.3                99\n",
      "124              Tajikistan   0.9        0.7        0.8                99\n",
      "125            Turkmenistan   4.9        5.4        5.3                99\n",
      "126                 Tunisia   5.1        2.6        3.3                93\n",
      "127                  Turkey   5.9        3.5        3.6                98\n",
      "128                Tanzania   2.3        0.6        4.3                91\n",
      "129                  Uganda   8.5        1.6       13.6                93\n",
      "130                 Ukraine  15.3        4.3        7.1                91\n",
      "131                 Uruguay  10.8        2.4        6.8                98\n",
      "132           United States  11.1        6.1        5.8                94\n",
      "133              Uzbekistan   3.3        0.5        1.1                99\n",
      "134               Venezuela   4.1        0.1        2.5                92\n",
      "135                 Vietnam   8.1        1.4        3.6                97\n",
      "136                   Yemen   3.1        1.8        3.2                65\n",
      "137            South Africa   9.0        4.7       10.8                74\n",
      "138                  Zambia  10.3        2.3        8.2                94\n",
      "139                Zimbabwe   3.8        0.6        1.9                95\n",
      "\n",
      "[140 rows x 5 columns]\n"
     ]
    }
   ],
   "source": [
    "#Create a merged dataframe of the four datasets\n",
    "df1 = pd.merge(v_safety, v_important)\n",
    "df2 = pd.merge(df1, v_effective)\n",
    "df = pd.merge(df2, v_rate17)\n",
    "df = df.dropna()\n",
    "print(df)"
   ]
  },
  {
   "cell_type": "code",
   "execution_count": 13,
   "metadata": {},
   "outputs": [
    {
     "name": "stdout",
     "output_type": "stream",
     "text": [
      "                    country  safe  important  effective  vaccination_rate\n",
      "0               Afghanistan  95.5       97.9       98.2                78\n",
      "1                   Albania  84.2       98.3       91.0                99\n",
      "2      United Arab Emirates  95.6       97.5       96.6                99\n",
      "3                 Argentina  95.2       98.8       97.1                99\n",
      "4                   Armenia  79.4       87.8       87.5                99\n",
      "5                 Australia  93.1       96.7       95.9                95\n",
      "6                   Austria  78.9       88.2       88.7                94\n",
      "7                Azerbaijan  88.8       91.7       91.6                97\n",
      "8                   Burundi  93.5       99.3       96.5                92\n",
      "9                   Belgium  79.4       95.3       94.7                98\n",
      "10                    Benin  86.0       98.2       93.4                89\n",
      "11             Burkina Faso  79.2       97.1       91.4                98\n",
      "12               Bangladesh  99.1       99.6       99.6                99\n",
      "13                 Bulgaria  84.4       93.1       93.6                96\n",
      "14   Bosnia and Herzegovina  91.7       94.1       93.8                95\n",
      "15                  Belarus  85.2       92.4       90.2                98\n",
      "16                  Bolivia  86.9       98.2       91.3                90\n",
      "17                   Brazil  91.0       99.5       93.3                93\n",
      "18                 Botswana  91.0       96.2       95.9                98\n",
      "19                   Canada  91.7       94.6       94.2                91\n",
      "20              Switzerland  78.5       90.7       92.3                96\n",
      "21                    Chile  88.6       96.0       93.5                96\n",
      "22                    China  91.7       98.1       97.2                99\n",
      "23            Cote d'Ivoire  83.6       98.5       92.2                95\n",
      "24                 Cameroon  86.9       98.2       90.5                84\n",
      "25              Congo, Rep.  82.5       97.8       96.6                81\n",
      "26                 Colombia  89.3       99.4       92.0                95\n",
      "27                  Comoros  92.5       98.7       97.4                94\n",
      "28               Costa Rica  94.2       99.0       94.7                98\n",
      "29                   Cyprus  90.1       94.0       93.8                99\n",
      "..                      ...   ...        ...        ...               ...\n",
      "110                  Rwanda  98.4       99.4       99.4                99\n",
      "111            Saudi Arabia  97.3       98.7       96.1                98\n",
      "112                 Senegal  85.3       97.3       90.6                83\n",
      "113               Singapore  97.0       97.9       97.1                98\n",
      "114            Sierra Leone  96.1       99.3       96.4                93\n",
      "115             El Salvador  88.6       99.2       91.8                85\n",
      "116                  Serbia  90.8       94.6       94.8                98\n",
      "117         Slovak Republic  93.6       97.4       97.6                97\n",
      "118                Slovenia  87.7       94.2       92.0                94\n",
      "119                  Sweden  87.7       97.8       96.9                97\n",
      "120                Eswatini  89.9       98.6       91.9                98\n",
      "121                    Chad  89.9       95.7       92.9                50\n",
      "122                    Togo  75.0       96.9       87.8                97\n",
      "123                Thailand  97.0       98.8       97.7                99\n",
      "124              Tajikistan  99.1       99.3       99.2                99\n",
      "125            Turkmenistan  95.1       94.6       94.7                99\n",
      "126                 Tunisia  94.9       97.4       96.7                93\n",
      "127                  Turkey  94.1       96.5       96.4                98\n",
      "128                Tanzania  97.7       99.4       95.7                91\n",
      "129                  Uganda  91.5       98.4       86.4                93\n",
      "130                 Ukraine  84.7       95.7       92.9                91\n",
      "131                 Uruguay  89.2       97.6       93.2                98\n",
      "132           United States  88.9       93.9       94.2                94\n",
      "133              Uzbekistan  96.7       99.5       98.9                99\n",
      "134               Venezuela  95.9       99.9       97.5                92\n",
      "135                 Vietnam  91.9       98.6       96.4                97\n",
      "136                   Yemen  96.9       98.2       96.8                65\n",
      "137            South Africa  91.0       95.3       89.2                74\n",
      "138                  Zambia  89.7       97.7       91.8                94\n",
      "139                Zimbabwe  96.2       99.4       98.1                95\n",
      "\n",
      "[140 rows x 5 columns]\n"
     ]
    }
   ],
   "source": [
    "#Reverse the percentange of the vaccination safety, effectiveness, and importance data to match the vaccination rate data\n",
    "df.loc[:, \"safe\"] = df[\"safe\"].apply(lambda x: 100-x)\n",
    "df.loc[:, \"effective\"] = df[\"effective\"].apply(lambda x: 100-x)\n",
    "df.loc[:, \"important\"] = df[\"important\"].apply(lambda x: 100-x)\n",
    "print(df)"
   ]
  },
  {
   "cell_type": "code",
   "execution_count": 14,
   "metadata": {},
   "outputs": [
    {
     "name": "stdout",
     "output_type": "stream",
     "text": [
      "     1979  1980  1981  1982  1983  1984  1985  1986  1987  1988  ...   2009  \\\n",
      "181  96.0  97.0  97.0  98.0  98.0  97.0  97.0  97.0  98.0  94.0  ...   95.0   \n",
      "\n",
      "     2010  2011  2012  2013  2014  2015  2016  2017  2018  \n",
      "181    96    94    94    95    95    95    95    94    95  \n",
      "\n",
      "[1 rows x 40 columns]\n"
     ]
    }
   ],
   "source": [
    "#For Question 2 dataset:\n",
    "#Select the row of vaccination rate data for the US only\n",
    "US = v_rate.loc[[181]]\n",
    "#Delete the country column\n",
    "del US[\"country\"]\n",
    "print(US)"
   ]
  },
  {
   "cell_type": "markdown",
   "metadata": {},
   "source": [
    "<a id='eda'></a>\n",
    "### Research Question 1: \n",
    "How does vaccine effectiveness, safety, and importance compare to the actual vaccination rates in 2017?"
   ]
  },
  {
   "cell_type": "code",
   "execution_count": 16,
   "metadata": {},
   "outputs": [
    {
     "name": "stdout",
     "output_type": "stream",
     "text": [
      "             safe   important   effective  vaccination_rate\n",
      "count  140.000000  140.000000  140.000000        140.000000\n",
      "mean    90.731429   96.960714   94.125714         93.171429\n",
      "std      5.914925    2.421507    3.876165          7.907689\n",
      "min     66.700000   87.800000   72.400000         50.000000\n",
      "25%     87.475000   95.675000   92.300000         92.750000\n",
      "50%     91.700000   97.700000   94.800000         96.000000\n",
      "75%     95.200000   98.725000   96.800000         98.000000\n",
      "max     99.400000   99.900000   99.600000         99.000000\n"
     ]
    }
   ],
   "source": [
    "print(df.describe())"
   ]
  },
  {
   "cell_type": "code",
   "execution_count": 17,
   "metadata": {},
   "outputs": [
    {
     "name": "stdout",
     "output_type": "stream",
     "text": [
      "Ttest_indResult(statistic=2.9235578019511608, pvalue=0.003745321113052594) Ttest_indResult(statistic=-1.2821361704934902, pvalue=0.20086303500399041) Ttest_indResult(statistic=-5.4213619354965186, pvalue=1.284641837855238e-07)\n"
     ]
    }
   ],
   "source": [
    "# stats t-tests comparing vaccination rate data to vaccine safety, effectiveness, and importance respectively\n",
    "t1 = stats.ttest_ind(df['vaccination_rate'],df['safe'])\n",
    "t2 = stats.ttest_ind(df['vaccination_rate'],df['effective'])\n",
    "t3 = stats.ttest_ind(df['vaccination_rate'],df['important'])\n",
    "print(t1, t2, t3)"
   ]
  },
  {
   "cell_type": "markdown",
   "metadata": {},
   "source": [
    "<a id='eda'></a>\n",
    "A series of t-tests were conducted to determine if there is a relationship between the vaccination rate data and the vaccine safety, importance, and effectiveness data. "
   ]
  },
  {
   "cell_type": "code",
   "execution_count": null,
   "metadata": {},
   "outputs": [],
   "source": [
    "# reshape the dataframe suitable for boxplot\n",
    "df_melt = pd.melt(df.reset_index(), id_vars=['country'], value_vars=['safe', 'effective', 'important', 'vaccination_rate'])\n",
    "# replace column names\n",
    "df_melt.columns = ['country', 'category', 'value']"
   ]
  },
  {
   "cell_type": "code",
   "execution_count": 18,
   "metadata": {},
   "outputs": [
    {
     "data": {
      "image/png": "[encoded data removed]",
      "text/plain": [
       "<matplotlib.figure.Figure at 0x7f2bc4f32978>"
      ]
     },
     "metadata": {
      "needs_background": "light"
     },
     "output_type": "display_data"
    }
   ],
   "source": [
    "ax = sns.boxplot(x='category', y='value', data=df_melt, color='teal')\n",
    "plt.show()"
   ]
  },
  {
   "cell_type": "markdown",
   "metadata": {},
   "source": [
    "<a id='eda1p'></a> \n",
    "Research Question 1 Plot summary:\n",
    "The data had to be reshaped to create a boxplot, which clearly depicts the means and quartiles for all four categories of data. It also shows that there are some outliers for some of the data, particularly in the vaccination_rate boxplot. This suggests that further analysis could be done to explore why there are more outliers in the vaccination_rate category. "
   ]
  },
  {
   "cell_type": "markdown",
   "metadata": {},
   "source": [
    "<a id='eda2'></a> \n",
    "### Research Question 2: \n",
    "How have vaccination rates in the United States changed over the years?"
   ]
  },
  {
   "cell_type": "code",
   "execution_count": 22,
   "metadata": {},
   "outputs": [
    {
     "name": "stdout",
     "output_type": "stream",
     "text": [
      "       181\n",
      "1979  96.0\n",
      "1980  97.0\n",
      "1981  97.0\n",
      "1982  98.0\n",
      "1983  98.0\n",
      "1984  97.0\n",
      "1985  97.0\n",
      "1986  97.0\n",
      "1987  98.0\n",
      "1988  94.0\n",
      "1989  90.0\n",
      "1990  87.0\n",
      "1991  83.0\n",
      "1992  88.0\n",
      "1993  94.0\n",
      "1994  95.0\n",
      "1995  95.0\n",
      "1996  96.0\n",
      "1997  96.0\n",
      "1998  96.0\n",
      "1999  94.0\n",
      "2000  94.0\n",
      "2001  94.0\n",
      "2002  96.0\n",
      "2003  96.0\n",
      "2004  96.0\n",
      "2005  96.0\n",
      "2006  96.0\n",
      "2007  96.0\n",
      "2008  95.0\n",
      "2009  95.0\n",
      "2010  96.0\n",
      "2011  94.0\n",
      "2012  94.0\n",
      "2013  95.0\n",
      "2014  95.0\n",
      "2015  95.0\n",
      "2016  95.0\n",
      "2017  94.0\n",
      "2018  95.0\n"
     ]
    }
   ],
   "source": [
    "#Transpose the US data to create a plot\n",
    "USt = US.transpose()\n",
    "print(USt)"
   ]
  },
  {
   "cell_type": "code",
   "execution_count": 186,
   "metadata": {},
   "outputs": [
    {
     "name": "stdout",
     "output_type": "stream",
     "text": [
      "             181\n",
      "count  40.000000\n",
      "mean   94.750000\n",
      "std     2.976403\n",
      "min    83.000000\n",
      "25%    94.000000\n",
      "50%    95.000000\n",
      "75%    96.000000\n",
      "max    98.000000\n"
     ]
    }
   ],
   "source": [
    "#Compute the statistics for the US data\n",
    "print(USt.describe())"
   ]
  },
  {
   "cell_type": "code",
   "execution_count": 187,
   "metadata": {},
   "outputs": [
    {
     "name": "stdout",
     "output_type": "stream",
     "text": [
      "181    95.0\n",
      "dtype: float64\n"
     ]
    }
   ],
   "source": [
    "#Compute the median of the US data\n",
    "print(USt.median())"
   ]
  },
  {
   "cell_type": "markdown",
   "metadata": {},
   "source": [
    "<a id='eda2'></a> \n",
    "A statistical summary and the median were computed for the data to determine if the data was skewed in any way. "
   ]
  },
  {
   "cell_type": "code",
   "execution_count": 25,
   "metadata": {},
   "outputs": [
    {
     "data": {
      "text/plain": [
       "([0,\n",
       "  1,\n",
       "  2,\n",
       "  3,\n",
       "  4,\n",
       "  5,\n",
       "  6,\n",
       "  7,\n",
       "  8,\n",
       "  9,\n",
       "  10,\n",
       "  11,\n",
       "  12,\n",
       "  13,\n",
       "  14,\n",
       "  15,\n",
       "  16,\n",
       "  17,\n",
       "  18,\n",
       "  19,\n",
       "  20,\n",
       "  21,\n",
       "  22,\n",
       "  23,\n",
       "  24,\n",
       "  25,\n",
       "  26,\n",
       "  27,\n",
       "  28,\n",
       "  29,\n",
       "  30,\n",
       "  31,\n",
       "  32,\n",
       "  33,\n",
       "  34,\n",
       "  35,\n",
       "  36,\n",
       "  37,\n",
       "  38,\n",
       "  39],\n",
       " <a list of 40 Text xticklabel objects>)"
      ]
     },
     "execution_count": 25,
     "metadata": {},
     "output_type": "execute_result"
    },
    {
     "data": {
      "image/png": "[encoded data removed]",
      "text/plain": [
       "<matplotlib.figure.Figure at 0x7f2bc2d2bba8>"
      ]
     },
     "metadata": {
      "needs_background": "light"
     },
     "output_type": "display_data"
    }
   ],
   "source": [
    "#Create plot of US vaccination data\n",
    "plt.plot(USt)\n",
    "plt.title(\"US Vaccination Rates 1979-2018\")\n",
    "plt.xlabel(\"Year\")\n",
    "plt.ylabel(\"Vaccination rate (%)\")\n",
    "plt.xticks(rotation=85, fontsize='7')"
   ]
  },
  {
   "cell_type": "markdown",
   "metadata": {},
   "source": [
    "<a id='eda2'></a> \n",
    "Research Question 2 Plot summary: The US vaccination rate plot clearly depicts the trends in US vaccination rates from 1979-2018. It can be clearly seen that there was a consistent drop in vaccination rates from 1988-1991."
   ]
  },
  {
   "cell_type": "markdown",
   "metadata": {},
   "source": [
    "<a id='conclusions'></a>\n",
    "## Conclusions\n",
    "\n",
    "> Question 1: The p-values from two of the t-tests were lower than 0.01. This indicates that none of the responses the the vaccine safety and importance data directly impacted the vaccination rates in 2017. When the vaccine effectiveness data was compared to the vaccination rate data via t-test, the p-value result was 0.2. This indicates that there is a small chance of there being a relationship between the two datasets; however, this study would need to be repicated over other years and have similar results in order for this to be confirmed.\n",
    "The standard deviation for the vaccination rate by country was higher than the standard deviations of the rest of the data showing that vaccination rates vary more by country than do the proportions of people who find them safe, important, and effective. The means for the vaccine importance and effectiveness data were also higher than the actual vaccination rate data. Both the means and standard deviation results could be the result of a lack of access to vaccinations in certain countries. Further analysis could be done to compare vaccination rates to poverty rates, GDP or income by country.\n",
    "\n",
    "> Question 2: The US vaccination rate has decreased from 1979-2018 overall. The median is slightly lower than the mean of the data which indicates a left skew. This is likely due to the continuous drop in vaccination rates from 1987-1992 as dipicted in the US vaccination rates plot. The max vaccination rate in the US was 98% and the min was 83%.\n",
    "\n",
    "### Limitations\n",
    "> One limitation of this dataset used in question 1 is that only one vaccine is counted in the vaccination rate and that vaccine varies by country. This is not a good indication of vaccination rates of all childhood vaccines that are supposed to be administered by age one.\n"
   ]
  },
  {
   "cell_type": "code",
   "execution_count": 26,
   "metadata": {},
   "outputs": [
    {
     "data": {
      "text/plain": [
       "0"
      ]
     },
     "execution_count": 26,
     "metadata": {},
     "output_type": "execute_result"
    }
   ],
   "source": [
    "from subprocess import call\n",
    "call(['python', '-m', 'nbconvert', 'Investigate_a_Dataset.ipynb'])"
   ]
  },
  {
   "cell_type": "code",
   "execution_count": null,
   "metadata": {},
   "outputs": [],
   "source": []
  }
 ],
 "metadata": {
  "kernelspec": {
   "display_name": "Python 3",
   "language": "python",
   "name": "python3"
  },
  "language_info": {
   "codemirror_mode": {
    "name": "ipython",
    "version": 3
   },
   "file_extension": ".py",
   "mimetype": "text/x-python",
   "name": "python",
   "nbconvert_exporter": "python",
   "pygments_lexer": "ipython3",
   "version": "3.6.3"
  }
 },
 "nbformat": 4,
 "nbformat_minor": 2
}
